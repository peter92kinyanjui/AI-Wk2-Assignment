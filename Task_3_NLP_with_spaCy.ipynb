{
  "nbformat": 4,
  "nbformat_minor": 0,
  "metadata": {
    "colab": {
      "provenance": []
    },
    "kernelspec": {
      "name": "python3",
      "display_name": "Python 3"
    },
    "language_info": {
      "name": "python"
    }
  },
  "cells": [
    {
      "cell_type": "code",
      "execution_count": 1,
      "metadata": {
        "colab": {
          "base_uri": "https://localhost:8080/"
        },
        "id": "y_ZW4U29k93h",
        "outputId": "75dee4c4-b1b7-4f0a-8bc1-5cdb1980c733"
      },
      "outputs": [
        {
          "output_type": "stream",
          "name": "stdout",
          "text": [
            "                                              Review  \\\n",
            "0  I love the Apple iPhone 13! It's the best phon...   \n",
            "1  The Samsung Galaxy S21 is a great phone, but i...   \n",
            "2  I am not satisfied with the performance of the...   \n",
            "3  The Sony WH-1000XM4 headphones are fantastic f...   \n",
            "4  This product is terrible! The quality is very ...   \n",
            "\n",
            "               Extracted Entities Sentiment  \n",
            "0  [(Apple, ORG), (13, CARDINAL)]  Positive  \n",
            "1                              []  Positive  \n",
            "2                              []  Negative  \n",
            "3                   [(Sony, ORG)]  Positive  \n",
            "4                              []  Negative  \n"
          ]
        }
      ],
      "source": [
        "# Import necessary libraries\n",
        "import spacy\n",
        "import pandas as pd\n",
        "\n",
        "# Load the spaCy model for English\n",
        "nlp = spacy.load(\"en_core_web_sm\")\n",
        "\n",
        "# Sample user reviews from Amazon Product Reviews\n",
        "reviews = [\n",
        "    \"I love the Apple iPhone 13! It's the best phone I've ever had.\",\n",
        "    \"The Samsung Galaxy S21 is a great phone, but it has a few bugs.\",\n",
        "    \"I am not satisfied with the performance of the Dell XPS 13.\",\n",
        "    \"The Sony WH-1000XM4 headphones are fantastic for noise cancellation.\",\n",
        "    \"This product is terrible! The quality is very poor.\"\n",
        "]\n",
        "\n",
        "# Function to perform NER and sentiment analysis\n",
        "def analyze_reviews(reviews):\n",
        "    extracted_entities = []\n",
        "    sentiments = []\n",
        "\n",
        "    for review in reviews:\n",
        "        # Perform NER\n",
        "        doc = nlp(review)\n",
        "        entities = [(ent.text, ent.label_) for ent in doc.ents]\n",
        "        extracted_entities.append(entities)\n",
        "\n",
        "        # Simple rule-based sentiment analysis\n",
        "        positive_words = [\"love\", \"great\", \"fantastic\", \"best\", \"excellent\"]\n",
        "        negative_words = [\"not\", \"terrible\", \"poor\", \"bad\", \"few\", \"bugs\"]\n",
        "\n",
        "        # Check for sentiment\n",
        "        if any(word in review.lower() for word in positive_words):\n",
        "            sentiments.append(\"Positive\")\n",
        "        elif any(word in review.lower() for word in negative_words):\n",
        "            sentiments.append(\"Negative\")\n",
        "        else:\n",
        "            sentiments.append(\"Neutral\")\n",
        "\n",
        "    return extracted_entities, sentiments\n",
        "\n",
        "# Analyze the reviews\n",
        "entities, sentiments = analyze_reviews(reviews)\n",
        "\n",
        "# Create a DataFrame to display the results\n",
        "results_df = pd.DataFrame({\n",
        "    'Review': reviews,\n",
        "    'Extracted Entities': entities,\n",
        "    'Sentiment': sentiments\n",
        "})\n",
        "\n",
        "# Display the results\n",
        "print(results_df)\n"
      ]
    }
  ]
}